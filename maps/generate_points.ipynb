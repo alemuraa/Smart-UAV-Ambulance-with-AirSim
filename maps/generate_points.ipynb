{
 "cells": [
  {
   "cell_type": "code",
   "execution_count": 1,
   "id": "ca971ba3",
   "metadata": {},
   "outputs": [],
   "source": [
    "import geopandas as gpd\n",
    "import requests\n",
    "import json\n",
    "import fiona\n",
    "from shapely.geometry import Point"
   ]
  },
  {
   "cell_type": "code",
   "execution_count": 2,
   "id": "8de31b8b",
   "metadata": {},
   "outputs": [],
   "source": [
    "fiona.supported_drivers['KML'] = 'rw'"
   ]
  },
  {
   "cell_type": "code",
   "execution_count": 3,
   "id": "9a783598",
   "metadata": {},
   "outputs": [
    {
     "data": {
      "text/html": [
       "<div>\n",
       "<style scoped>\n",
       "    .dataframe tbody tr th:only-of-type {\n",
       "        vertical-align: middle;\n",
       "    }\n",
       "\n",
       "    .dataframe tbody tr th {\n",
       "        vertical-align: top;\n",
       "    }\n",
       "\n",
       "    .dataframe thead th {\n",
       "        text-align: right;\n",
       "    }\n",
       "</style>\n",
       "<table border=\"1\" class=\"dataframe\">\n",
       "  <thead>\n",
       "    <tr style=\"text-align: right;\">\n",
       "      <th></th>\n",
       "      <th>Name</th>\n",
       "      <th>Description</th>\n",
       "      <th>geometry</th>\n",
       "    </tr>\n",
       "  </thead>\n",
       "  <tbody>\n",
       "    <tr>\n",
       "      <th>0</th>\n",
       "      <td>Genova/Sestri 10/28 - 1</td>\n",
       "      <td>0</td>\n",
       "      <td>POLYGON Z ((8.91680 44.42656 0.00000, 8.76924 ...</td>\n",
       "    </tr>\n",
       "    <tr>\n",
       "      <th>1</th>\n",
       "      <td>Genova/Sestri 10/28 - 2</td>\n",
       "      <td>25</td>\n",
       "      <td>POLYGON Z ((8.97015 44.43401 0.00000, 8.72227 ...</td>\n",
       "    </tr>\n",
       "    <tr>\n",
       "      <th>2</th>\n",
       "      <td>Genova/Sestri 10/28 - 3</td>\n",
       "      <td>45</td>\n",
       "      <td>POLYGON Z ((9.03816 44.45579 0.00000, 8.79744 ...</td>\n",
       "    </tr>\n",
       "    <tr>\n",
       "      <th>3</th>\n",
       "      <td>Parco naturale regionale di Portofino</td>\n",
       "      <td>0</td>\n",
       "      <td>POLYGON Z ((9.21908 44.32563 0.00000, 9.14994 ...</td>\n",
       "    </tr>\n",
       "    <tr>\n",
       "      <th>4</th>\n",
       "      <td>Genova CTR</td>\n",
       "      <td>60</td>\n",
       "      <td>POLYGON Z ((9.23428 44.42709 0.00000, 8.79741 ...</td>\n",
       "    </tr>\n",
       "  </tbody>\n",
       "</table>\n",
       "</div>"
      ],
      "text/plain": [
       "                                    Name Description  \\\n",
       "0                Genova/Sestri 10/28 - 1           0   \n",
       "1                Genova/Sestri 10/28 - 2          25   \n",
       "2                Genova/Sestri 10/28 - 3          45   \n",
       "3  Parco naturale regionale di Portofino           0   \n",
       "4                             Genova CTR          60   \n",
       "\n",
       "                                            geometry  \n",
       "0  POLYGON Z ((8.91680 44.42656 0.00000, 8.76924 ...  \n",
       "1  POLYGON Z ((8.97015 44.43401 0.00000, 8.72227 ...  \n",
       "2  POLYGON Z ((9.03816 44.45579 0.00000, 8.79744 ...  \n",
       "3  POLYGON Z ((9.21908 44.32563 0.00000, 9.14994 ...  \n",
       "4  POLYGON Z ((9.23428 44.42709 0.00000, 8.79741 ...  "
      ]
     },
     "execution_count": 3,
     "metadata": {},
     "output_type": "execute_result"
    }
   ],
   "source": [
    "restriction_areas = gpd.read_file('flight_restriction_areas.kml', driver='KML')\n",
    "restriction_areas"
   ]
  },
  {
   "cell_type": "code",
   "execution_count": null,
   "id": "a197d64a",
   "metadata": {},
   "outputs": [],
   "source": [
    "# Generate random points within each polygon\n",
    "points = restriction_areas.sample_points(10)\n",
    "points.explore(m=restriction_areas.explore(), color='red')"
   ]
  },
  {
   "cell_type": "code",
   "execution_count": null,
   "id": "7d13bc13",
   "metadata": {},
   "outputs": [],
   "source": [
    "# Parse the points coordinates to make a string for the request to open elevation API\n",
    "def parse_points(points):\n",
    "    coords = []\n",
    "    msg = []\n",
    "\n",
    "    for p in points:\n",
    "        coords.append(list(p.coords))\n",
    "\n",
    "    for i in range(len(coords)):\n",
    "        coords[i] = [(x[1], x[0]) for x in coords[i]]\n",
    "    \n",
    "    for c in coords:\n",
    "        msg.append(str(c[0][0]) + ',' + str(c[0][1]))\n",
    "    \n",
    "    msg = '|'.join(msg)\n",
    "\n",
    "    return msg"
   ]
  },
  {
   "cell_type": "code",
   "execution_count": null,
   "id": "6f6bbcd8",
   "metadata": {},
   "outputs": [],
   "source": [
    "payloads = []\n",
    "for p in points:\n",
    "    payloads.append(parse_points(list(p.geoms)))\n",
    "payloads\n"
   ]
  },
  {
   "cell_type": "code",
   "execution_count": null,
   "id": "aa0d9a3a",
   "metadata": {},
   "outputs": [],
   "source": [
    "def get_elevation(coords):\n",
    "    api_url = 'https://api.open-elevation.com/api/v1/lookup?locations='\n",
    "    url = api_url + coords\n",
    "    response = requests.get(url)\n",
    "\n",
    "    if response.status_code == 200:\n",
    "        data = response.json()\n",
    "        if 'results' in data and len(data['results']) > 0:\n",
    "            # Get all elevations and return\n",
    "            # elevations = []\n",
    "            # for result in data['results']:\n",
    "            #     elevations.append(result['elevation'])\n",
    "            return data\n",
    "        else:\n",
    "            print(\"No results found for the provided coordinates.\")\n",
    "    else:\n",
    "        print(\"Error occurred while fetching data:\", response.status_code)"
   ]
  },
  {
   "cell_type": "code",
   "execution_count": null,
   "id": "e2dca1db",
   "metadata": {},
   "outputs": [],
   "source": [
    "data = {}\n",
    "\n",
    "for i in range(len(payloads)):\n",
    "    data[restriction_areas['Name'][i]] = get_elevation(payloads[i])['results']\n",
    "\n",
    "with open(\"elevations.json\", \"w\") as outfile:\n",
    "    outfile.write(json.dumps(data, indent=4))\n"
   ]
  },
  {
   "cell_type": "code",
   "execution_count": null,
   "id": "1246f17b",
   "metadata": {},
   "outputs": [],
   "source": [
    "get_elevation(payloads[0])['results']"
   ]
  }
 ],
 "metadata": {
  "kernelspec": {
   "display_name": "Python 3 (ipykernel)",
   "language": "python",
   "name": "python3"
  },
  "language_info": {
   "codemirror_mode": {
    "name": "ipython",
    "version": 3
   },
   "file_extension": ".py",
   "mimetype": "text/x-python",
   "name": "python",
   "nbconvert_exporter": "python",
   "pygments_lexer": "ipython3",
   "version": "3.11.2"
  }
 },
 "nbformat": 4,
 "nbformat_minor": 5
}
